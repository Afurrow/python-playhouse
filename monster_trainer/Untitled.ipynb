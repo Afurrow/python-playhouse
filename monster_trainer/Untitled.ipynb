{
 "cells": [
  {
   "cell_type": "code",
   "execution_count": 1,
   "id": "c3a62501-eb50-4673-ad54-f6c60fff24ac",
   "metadata": {},
   "outputs": [],
   "source": [
    "# import classes\n",
    "import classes.trainer_class as tc\n",
    "from os import path\n",
    "from yaml import dump, full_load"
   ]
  },
  {
   "cell_type": "code",
   "execution_count": 2,
   "id": "0d223ce0-1d71-4855-a459-672473a8ddb9",
   "metadata": {
    "tags": []
   },
   "outputs": [],
   "source": [
    "# function will request input from the user, ensure it works as needed and returns it\n",
    "def get_input(typ, mn=None, mx=None):\n",
    "    if typ == int:\n",
    "        while True:\n",
    "            try:\n",
    "                inpt = int(input())\n",
    "                if inpt >= mn and inpt <= mx:\n",
    "                    return inpt\n",
    "                else:\n",
    "                    print(f'Please enter a number between {mn} and {mx}')\n",
    "            except ValueError:\n",
    "                print('Please enter a valid number')\n",
    "    elif typ == str: \n",
    "        return str(input())\n",
    "            "
   ]
  },
  {
   "cell_type": "code",
   "execution_count": 3,
   "id": "653f3fa8-0f98-4a28-b0ed-50716feeec4e",
   "metadata": {
    "tags": []
   },
   "outputs": [],
   "source": [
    "# Takes user through a text battle where they control their first monster\n",
    "def battle(player,opponent):\n",
    "    player_mon = player.party[0]\n",
    "    \n",
    "    print(f'{player.name.title()} sends out {player_mon.name}.')\n",
    "    \n",
    "    if isinstance(opponent, tc.trainer):\n",
    "        opp_mon = opponent.party[0]\n",
    "        print(f'{opponent.name} sends out {opp_mon.name}.')\n",
    "    else:\n",
    "        opp_mon = opponent\n",
    "        print(f'A wild {opp_mon.name} appears!')\n",
    "        \n",
    "    while True:\n",
    "        if player_mon.hp < 0:\n",
    "            print(f'\\n{player_mon.name} fainted.')\n",
    "            usable_mon = [mon for mon in p1.party if mon.hp > 0]\n",
    "            if len(usable_mon) == 0: \n",
    "                print(f'All usable monsters have fainted.  {p1.name} lost.')\n",
    "                break\n",
    "            else: \n",
    "                player_mon = usable_mon[0]\n",
    "                print(f'{player.name.title()} sends out {player_mon.name}.')\n",
    "        \n",
    "        print(f'\\n{player.name}\\'s turn.  Which move would you like to use?')\n",
    "        \n",
    "        move_dict = {}\n",
    "        \n",
    "        for x, move in enumerate(player_mon.moves):\n",
    "            if move.lvl_lrnd <= player_mon.level:\n",
    "                move_dict[x+1] = move\n",
    "                print(f'{x+1}. {move.name}\\n  type: {move.typ} | power: {move.pwr} | accuracy: {int(move.acc*100)}%')\n",
    "                \n",
    "        player_input = get_input(int, 1, len(move_dict))\n",
    "        mv_used = move_dict[player_input]\n",
    "        print(f'{player_mon.name} used {mv_used.name}')\n",
    "        \n",
    "        dmg = player_mon.calc_dmg(opp_mon, mv_used)\n",
    "            \n",
    "        opp_mon.lose_hp(dmg)        \n",
    "        print(f'{player_mon.name} dealt {dmg} damage.')\n",
    "        \n",
    "        if opp_mon.hp < 0:\n",
    "            print(f'\\nEnemy {opp_mon.name} fainted.  {player.name} wins!!!')\n",
    "            if not isinstance(opponent, tc.trainer):\n",
    "                print('Would you like to catch this monster?\\n 1) Yes 2) No')\n",
    "                catch_selection = get_input(int, 1, 2)\n",
    "                if catch_selection == 1: \n",
    "                    p1.get_mon(opp_mon)\n",
    "                    print(f'{player.name} caught {opp_mon.name}!')\n",
    "            player_mon.gain_exp(opp_mon.level)\n",
    "            break\n",
    "        else:\n",
    "            print(f'\\nEnemy {opponent.name}\\'s turn.')\n",
    "            opp_mv_lst = [x for x in opp_mon.moves if x.lvl_lrnd <= opp_mon.level]\n",
    "            mv_used = tc.ml.random.choice(opp_mv_lst)\n",
    "            dmg = opp_mon.calc_dmg(player_mon, mv_used)\n",
    "            player_mon.lose_hp(dmg)\n",
    "            print(f'Enemy {opp_mon.name} used {mv_used.name}, it dealt {dmg} damage.')"
   ]
  },
  {
   "cell_type": "code",
   "execution_count": 4,
   "id": "552db272-03e2-4f8a-9a8d-60488119059b",
   "metadata": {},
   "outputs": [],
   "source": [
    "# function will set up trainer, their rival, and comence a battle.  Intended for first play through. \n",
    "def new_game(): \n",
    "    print('What is your name?')\n",
    "    p1_name = get_input(str)\n",
    "    p1 = tc.trainer(p1_name)\n",
    "    \n",
    "    rival = tc.trainer('Red')\n",
    "\n",
    "    # select first mon \n",
    "    print('Welcome to the game. Who would you like as your first mon?')\n",
    "    print('The 1) fire, 2) water, 3) grass, or 4) normal type?')\n",
    "    typ_select = get_input(int, 1, 4)\n",
    "\n",
    "    if typ_select == 1:\n",
    "        p1.get_mon(tc.ml.charmander(5))\n",
    "        rival.get_mon(tc.ml.squirtle(5))\n",
    "    elif typ_select == 2:\n",
    "        p1.get_mon(tc.ml.squirtle(5))\n",
    "        rival.get_mon(tc.ml.bulbasaur(5))\n",
    "    elif typ_select == 3:\n",
    "        p1.get_mon(tc.ml.bulbasaur(5))\n",
    "        rival.get_mon(tc.ml.charmander(5))\n",
    "    elif typ_select == 4:\n",
    "        p1.get_mon(tc.ml.munchlax(5))\n",
    "        rival.get_mon(tc.ml.happiny(5))\n",
    "\n",
    "    print(f'Ready for your first fight?  Here comes your rival {rival.name}!\\n')\n",
    "\n",
    "    battle(p1,rival)  \n",
    "    \n",
    "    return (p1, rival)"
   ]
  },
  {
   "cell_type": "code",
   "execution_count": 5,
   "id": "3d62f8fb-c1f5-4c08-bb5f-981b086cadbd",
   "metadata": {
    "tags": []
   },
   "outputs": [
    {
     "name": "stdout",
     "output_type": "stream",
     "text": [
      "Would you like to start from 1) last save or 2) beginning?\n"
     ]
    },
    {
     "name": "stdin",
     "output_type": "stream",
     "text": [
      " 1\n"
     ]
    },
    {
     "name": "stdout",
     "output_type": "stream",
     "text": [
      "\n",
      "What would you like to do?\n",
      "1) Battle wild Mon.  2) Battle other Trainer. 3) Battle Rival. 4) Select active Mon. 5) Save and Quit\n"
     ]
    },
    {
     "name": "stdin",
     "output_type": "stream",
     "text": [
      " 4\n"
     ]
    },
    {
     "name": "stdout",
     "output_type": "stream",
     "text": [
      "Which mon do you want to lead your party?\n",
      "1) squirtle\n",
      "  level:6 | type:water\n",
      "2) charmander\n",
      "  level:1 | type:fire\n",
      "3) bulbasaur\n",
      "  level:1 | type:grass\n"
     ]
    },
    {
     "name": "stdin",
     "output_type": "stream",
     "text": [
      " 3\n"
     ]
    },
    {
     "name": "stdout",
     "output_type": "stream",
     "text": [
      "\n",
      "What would you like to do?\n",
      "1) Battle wild Mon.  2) Battle other Trainer. 3) Battle Rival. 4) Select active Mon. 5) Save and Quit\n"
     ]
    },
    {
     "name": "stdin",
     "output_type": "stream",
     "text": [
      " 4\n"
     ]
    },
    {
     "name": "stdout",
     "output_type": "stream",
     "text": [
      "Which mon do you want to lead your party?\n",
      "1) bulbasaur\n",
      "  level:1 | type:grass\n",
      "2) squirtle\n",
      "  level:6 | type:water\n",
      "3) charmander\n",
      "  level:1 | type:fire\n"
     ]
    },
    {
     "name": "stdin",
     "output_type": "stream",
     "text": [
      " 3\n"
     ]
    },
    {
     "name": "stdout",
     "output_type": "stream",
     "text": [
      "\n",
      "What would you like to do?\n",
      "1) Battle wild Mon.  2) Battle other Trainer. 3) Battle Rival. 4) Select active Mon. 5) Save and Quit\n"
     ]
    },
    {
     "name": "stdin",
     "output_type": "stream",
     "text": [
      " 4\n"
     ]
    },
    {
     "name": "stdout",
     "output_type": "stream",
     "text": [
      "Which mon do you want to lead your party?\n",
      "1) charmander\n",
      "  level:1 | type:fire\n",
      "2) bulbasaur\n",
      "  level:1 | type:grass\n",
      "3) squirtle\n",
      "  level:6 | type:water\n"
     ]
    },
    {
     "name": "stdin",
     "output_type": "stream",
     "text": [
      " 1\n"
     ]
    },
    {
     "name": "stdout",
     "output_type": "stream",
     "text": [
      "\n",
      "What would you like to do?\n",
      "1) Battle wild Mon.  2) Battle other Trainer. 3) Battle Rival. 4) Select active Mon. 5) Save and Quit\n"
     ]
    },
    {
     "name": "stdin",
     "output_type": "stream",
     "text": [
      " 4\n"
     ]
    },
    {
     "name": "stdout",
     "output_type": "stream",
     "text": [
      "Which mon do you want to lead your party?\n",
      "1) charmander\n",
      "  level:1 | type:fire\n",
      "2) bulbasaur\n",
      "  level:1 | type:grass\n",
      "3) squirtle\n",
      "  level:6 | type:water\n"
     ]
    },
    {
     "name": "stdin",
     "output_type": "stream",
     "text": [
      " 1\n"
     ]
    },
    {
     "name": "stdout",
     "output_type": "stream",
     "text": [
      "\n",
      "What would you like to do?\n",
      "1) Battle wild Mon.  2) Battle other Trainer. 3) Battle Rival. 4) Select active Mon. 5) Save and Quit\n"
     ]
    },
    {
     "name": "stdin",
     "output_type": "stream",
     "text": [
      " 1\n"
     ]
    },
    {
     "ename": "IndexError",
     "evalue": "Cannot choose from an empty sequence",
     "output_type": "error",
     "traceback": [
      "\u001b[0;31m---------------------------------------------------------------------------\u001b[0m",
      "\u001b[0;31mIndexError\u001b[0m                                Traceback (most recent call last)",
      "Input \u001b[0;32mIn [5]\u001b[0m, in \u001b[0;36m<module>\u001b[0;34m\u001b[0m\n\u001b[1;32m     22\u001b[0m selection \u001b[38;5;241m=\u001b[39m get_input(\u001b[38;5;28mint\u001b[39m, \u001b[38;5;241m1\u001b[39m, \u001b[38;5;241m5\u001b[39m)\n\u001b[1;32m     23\u001b[0m \u001b[38;5;28;01mif\u001b[39;00m selection \u001b[38;5;241m==\u001b[39m \u001b[38;5;241m1\u001b[39m: \n\u001b[0;32m---> 24\u001b[0m     lvl \u001b[38;5;241m=\u001b[39m \u001b[43mtc\u001b[49m\u001b[38;5;241;43m.\u001b[39;49m\u001b[43mml\u001b[49m\u001b[38;5;241;43m.\u001b[39;49m\u001b[43mrandom\u001b[49m\u001b[38;5;241;43m.\u001b[39;49m\u001b[43mchoice\u001b[49m\u001b[43m(\u001b[49m\u001b[43m[\u001b[49m\u001b[38;5;241;43m*\u001b[39;49m\u001b[38;5;28;43mrange\u001b[39;49m\u001b[43m(\u001b[49m\u001b[38;5;241;43m1\u001b[39;49m\u001b[43m,\u001b[49m\u001b[43mp1\u001b[49m\u001b[38;5;241;43m.\u001b[39;49m\u001b[43mparty\u001b[49m\u001b[43m[\u001b[49m\u001b[38;5;241;43m0\u001b[39;49m\u001b[43m]\u001b[49m\u001b[38;5;241;43m.\u001b[39;49m\u001b[43mlevel\u001b[49m\u001b[38;5;241;43m-\u001b[39;49m\u001b[38;5;241;43m2\u001b[39;49m\u001b[43m)\u001b[49m\u001b[43m]\u001b[49m\u001b[43m)\u001b[49m\n\u001b[1;32m     25\u001b[0m     rand_mon \u001b[38;5;241m=\u001b[39m tc\u001b[38;5;241m.\u001b[39mml\u001b[38;5;241m.\u001b[39mrandom\u001b[38;5;241m.\u001b[39mchoice([tc\u001b[38;5;241m.\u001b[39mml\u001b[38;5;241m.\u001b[39mbulbasaur(lvl),tc\u001b[38;5;241m.\u001b[39mml\u001b[38;5;241m.\u001b[39mcharmander(lvl),tc\u001b[38;5;241m.\u001b[39mml\u001b[38;5;241m.\u001b[39msquirtle(lvl),tc\u001b[38;5;241m.\u001b[39mml\u001b[38;5;241m.\u001b[39mmunchlax(lvl),tc\u001b[38;5;241m.\u001b[39mml\u001b[38;5;241m.\u001b[39mhappiny(lvl)])\n\u001b[1;32m     26\u001b[0m     battle(p1, rand_mon)\n",
      "File \u001b[0;32m/usr/lib/python3.8/random.py:290\u001b[0m, in \u001b[0;36mRandom.choice\u001b[0;34m(self, seq)\u001b[0m\n\u001b[1;32m    288\u001b[0m     i \u001b[38;5;241m=\u001b[39m \u001b[38;5;28mself\u001b[39m\u001b[38;5;241m.\u001b[39m_randbelow(\u001b[38;5;28mlen\u001b[39m(seq))\n\u001b[1;32m    289\u001b[0m \u001b[38;5;28;01mexcept\u001b[39;00m \u001b[38;5;167;01mValueError\u001b[39;00m:\n\u001b[0;32m--> 290\u001b[0m     \u001b[38;5;28;01mraise\u001b[39;00m \u001b[38;5;167;01mIndexError\u001b[39;00m(\u001b[38;5;124m'\u001b[39m\u001b[38;5;124mCannot choose from an empty sequence\u001b[39m\u001b[38;5;124m'\u001b[39m) \u001b[38;5;28;01mfrom\u001b[39;00m \u001b[38;5;28mNone\u001b[39m\n\u001b[1;32m    291\u001b[0m \u001b[38;5;28;01mreturn\u001b[39;00m seq[i]\n",
      "\u001b[0;31mIndexError\u001b[0m: Cannot choose from an empty sequence"
     ]
    }
   ],
   "source": [
    "# Play game\n",
    "print('Would you like to start from 1) last save or 2) beginning?')\n",
    "save_response = get_input(int, 1, 2)\n",
    "if save_response == 1:\n",
    "    if path.isfile('save_state.yaml'): \n",
    "        with open('save_state.yaml', 'r') as r: \n",
    "            state = full_load(r.read())\n",
    "        p1 = tc.trainer(state[0]['name'],state[0])\n",
    "        rival = tc.trainer(state[1]['name'],state[1])\n",
    "    else: \n",
    "        print('No save state found, starting game from the beginning.')\n",
    "        p1, rival = new_game()\n",
    "else: \n",
    "    p1, rival = new_game()\n",
    "\n",
    "while True: \n",
    "    p1.heal_party()\n",
    "    rival.heal_party()\n",
    "        \n",
    "    print('\\nWhat would you like to do?')\n",
    "    print('1) Battle wild Mon.  2) Battle other Trainer. 3) Battle Rival. 4) Select active Mon. 5) Save and Quit')\n",
    "    selection = get_input(int, 1, 5)\n",
    "    if selection == 1: \n",
    "        lvl = tc.ml.random.choice([*range(1,p1.party[0].level-2)])\n",
    "        rand_mon = tc.ml.random.choice([tc.ml.bulbasaur(lvl),tc.ml.charmander(lvl),tc.ml.squirtle(lvl),tc.ml.munchlax(lvl),tc.ml.happiny(lvl)])\n",
    "        battle(p1, rand_mon)\n",
    "    elif selection == 2:    \n",
    "        lvl = tc.ml.random.choice([*range(p1.party[0].level-5,p1.party[0].level+3)])\n",
    "        rand_trainer = tc.trainer('Eager Trainer')\n",
    "        rand_mon = tc.ml.random.choice([tc.ml.bulbasaur(lvl),tc.ml.charmander(lvl),tc.ml.squirtle(lvl),tc.ml.munchlax(lvl),tc.ml.happiny(lvl)])\n",
    "        rand_trainer.get_mon(rand_mon)\n",
    "        battle(p1, rand_trainer)\n",
    "    elif selection == 3: \n",
    "        lvl = tc.ml.random.choice([*range(p1.party[0].level-3,p1.party[0].level+4)])\n",
    "        if len(rival.party) < int(p1.get_avg_lvl()/10):\n",
    "            rand_mon = tc.ml.random.choice([tc.ml.bulbasaur(lvl),tc.ml.charmander(lvl),tc.ml.squirtle(lvl),tc.ml.munchlax(lvl),tc.ml.happiny(lvl)])\n",
    "            rival.get_mon(rand_mon)\n",
    "        for mon in rival.party: \n",
    "            mon.update_lvl(lvl)\n",
    "        battle(p1, rival)\n",
    "    elif selection == 4:\n",
    "        if len(p1.party) < 2: \n",
    "            print('You only have one mon, cannot change leader.') \n",
    "        else: \n",
    "            print('Which mon do you want to lead your party?')\n",
    "            for i, mon in enumerate(p1.party): \n",
    "                print(f'{i+1}) {mon.name}\\n  level:{mon.level} | type:{mon.typ}')\n",
    "            leader_select = get_input(int, 1, len(p1.party))\n",
    "            p1.party.insert(0, p1.party.pop(leader_select-1))        \n",
    "    else: \n",
    "        with open('save_state.yaml','w') as f: \n",
    "            f.write(dump([p1.export(), rival.export()],sort_keys=False))\n",
    "            \n",
    "        print('Thanks for playing!!!')\n",
    "        break"
   ]
  },
  {
   "cell_type": "code",
   "execution_count": null,
   "id": "2d66bd68-55b0-4487-8fb9-f1dfa41d59bc",
   "metadata": {},
   "outputs": [],
   "source": []
  }
 ],
 "metadata": {
  "kernelspec": {
   "display_name": "Python 3 (ipykernel)",
   "language": "python",
   "name": "python3"
  },
  "language_info": {
   "codemirror_mode": {
    "name": "ipython",
    "version": 3
   },
   "file_extension": ".py",
   "mimetype": "text/x-python",
   "name": "python",
   "nbconvert_exporter": "python",
   "pygments_lexer": "ipython3",
   "version": "3.8.10"
  }
 },
 "nbformat": 4,
 "nbformat_minor": 5
}
